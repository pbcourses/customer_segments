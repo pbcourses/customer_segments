{
 "cells": [
  {
   "cell_type": "markdown",
   "metadata": {},
   "source": [
    "# Creating Customer Segments"
   ]
  },
  {
   "cell_type": "markdown",
   "metadata": {},
   "source": [
    "In this project you, will analyze a dataset containing annual spending amounts for internal structure, to understand the variation in the different types of customers that a wholesale distributor interacts with.\n",
    "\n",
    "Instructions:\n",
    "\n",
    "- Run each code block below by pressing **Shift+Enter**, making sure to implement any steps marked with a TODO.\n",
    "- Answer each question in the space provided by editing the blocks labeled \"Answer:\".\n",
    "- When you are done, submit the completed notebook (.ipynb) with all code blocks executed, as well as a .pdf version (File > Download as)."
   ]
  },
  {
   "cell_type": "code",
   "execution_count": 1,
   "metadata": {
    "collapsed": false
   },
   "outputs": [
    {
     "name": "stdout",
     "output_type": "stream",
     "text": [
      "Dataset has 440 rows, 6 columns\n",
      "   Fresh  Milk  Grocery  Frozen  Detergents_Paper  Delicatessen\n",
      "0  12669  9656     7561     214              2674          1338\n",
      "1   7057  9810     9568    1762              3293          1776\n",
      "2   6353  8808     7684    2405              3516          7844\n",
      "3  13265  1196     4221    6404               507          1788\n",
      "4  22615  5410     7198    3915              1777          5185\n"
     ]
    }
   ],
   "source": [
    "# Import libraries: NumPy, pandas, matplotlib\n",
    "import numpy as np\n",
    "import pandas as pd\n",
    "import matplotlib.pyplot as plt\n",
    "\n",
    "# Tell iPython to include plots inline in the notebook\n",
    "%matplotlib inline\n",
    "\n",
    "# Read dataset\n",
    "data = pd.read_csv(\"wholesale-customers.csv\")\n",
    "print \"Dataset has {} rows, {} columns\".format(*data.shape)\n",
    "print data.head()  # print the first 5 rows"
   ]
  },
  {
   "cell_type": "markdown",
   "metadata": {},
   "source": [
    "##Feature Transformation"
   ]
  },
  {
   "cell_type": "markdown",
   "metadata": {},
   "source": [
    "**1)** In this section you will be using PCA and ICA to start to understand the structure of the data. Before doing any computations, what do you think will show up in your computations? List one or two ideas for what might show up as the first PCA dimensions, or what type of vectors will show up as ICA dimensions."
   ]
  },
  {
   "cell_type": "markdown",
   "metadata": {},
   "source": [
    "Answer:\n",
    "\n",
    "Given the descriptive statistics:\n",
    "\n",
    "**Attribute: (Minimum, Maximum, Mean, Std. Deviation)**\n",
    "\n",
    "- Fresh: ( 3, 112151, 12000.30, 12647.329)\n",
    "- Milk: (55, 73498, 5796.27, 7380.377)\n",
    "- Grocery: (3, 92780, 7951.28, 9503.163)\n",
    "- Frozen: (25, 60869, 3071.93, 4854.673)\n",
    "- Detergents_Paper: (3, 40827, 2881.49, 4767.854)\n",
    "- Delicatessen: (3, 47943, 1524.87, 2820.106)\n",
    "\n",
    "The _Fresh_ feature has the highest standard deviation and the largest range in values. Thus it might show up a PCA vector _pointing_ almost in that direction. Maybe it could also be among the first or second most important component.\n",
    "\n",
    "From ICA I can expect some _buying pattern_. For example customers who buys more Milk and less Grocery might show up as an independent recurring pattern."
   ]
  },
  {
   "cell_type": "markdown",
   "metadata": {},
   "source": [
    "###PCA"
   ]
  },
  {
   "cell_type": "code",
   "execution_count": 2,
   "metadata": {
    "collapsed": false
   },
   "outputs": [
    {
     "name": "stdout",
     "output_type": "stream",
     "text": [
      "[[-0.97653685 -0.12118407 -0.06154039 -0.15236462  0.00705417 -0.06810471]\n",
      " [-0.11061386  0.51580216  0.76460638 -0.01872345  0.36535076  0.05707921]\n",
      " [-0.17855726  0.50988675 -0.27578088  0.71420037 -0.20440987  0.28321747]\n",
      " [-0.04187648 -0.64564047  0.37546049  0.64629232  0.14938013 -0.02039579]\n",
      " [ 0.015986    0.20323566 -0.1602915   0.22018612  0.20793016 -0.91707659]\n",
      " [-0.01576316  0.03349187  0.41093894 -0.01328898 -0.87128428 -0.26541687]]\n",
      "[ 0.45961362  0.40517227  0.07003008  0.04402344  0.01502212  0.00613848]\n"
     ]
    }
   ],
   "source": [
    "# TODO: Apply PCA with the same number of dimensions as variables in the dataset\n",
    "from sklearn.decomposition import PCA\n",
    "pca = PCA(n_components = 6)\n",
    "pca.fit(data)\n",
    "\n",
    "# Print the components and the amount of variance in the data contained in each dimension\n",
    "print pca.components_\n",
    "print pca.explained_variance_ratio_"
   ]
  },
  {
   "cell_type": "markdown",
   "metadata": {},
   "source": [
    "**2)** How quickly does the variance drop off by dimension? If you were to use PCA on this dataset, how many dimensions would you choose for your analysis? Why?"
   ]
  },
  {
   "cell_type": "markdown",
   "metadata": {
    "collapsed": true
   },
   "source": [
    "Answer: \n",
    "\n",
    "The first vector points towards a direction that explains 46% of the variance, and the second is along 40% of the variance in the data. The first two vectors will define a space in which 86% of the original data variance is retained.\n",
    "\n",
    "In this case I would keep just the first two principal components. \n",
    "This will also help with data visualisation."
   ]
  },
  {
   "cell_type": "markdown",
   "metadata": {},
   "source": [
    "**3)** What do the dimensions seem to represent? How can you use this information?"
   ]
  },
  {
   "cell_type": "markdown",
   "metadata": {
    "collapsed": true
   },
   "source": [
    "Answer: \n",
    "\n",
    "The first component seems to heavily weight the first feature since its first coefficient is pretty close to |1|.\n",
    "I would consider this as a vector that captures variations along the _Fresh_ feature.\n",
    "\n",
    "The second component mainly combines _Milk_, _Grocery_ and _Detergents_Paper_. Also this component heavily penalize _Fresh_.\n",
    "I would consider this component as the one that explains the variations among the important products except _Fresh_.\n",
    "\n",
    "The third component considers _Frozen_ (`0.71`) but explains just 7% of the variations in the data.\n",
    "\n",
    "_Delicatessen_ is significantly weighted at the fourth component which is along only 1.5% of the variance.\n",
    "\n",
    "In the end I would consider two categories of products as important:\n",
    "- _Fresh_\n",
    "- _Milk_, _Grocery_ and _Detergents_Paper_\n",
    "\n",
    "And the first two principal components as pointing along the directions of these two main groups.\n",
    "\n",
    "_Frozen_ and _Delicatessen_ seems to be not much important in this case.\n"
   ]
  },
  {
   "cell_type": "markdown",
   "metadata": {},
   "source": [
    "###ICA"
   ]
  },
  {
   "cell_type": "code",
   "execution_count": 3,
   "metadata": {
    "collapsed": false
   },
   "outputs": [
    {
     "name": "stdout",
     "output_type": "stream",
     "text": [
      "[[ 0.02231307 -0.12870728  0.69608367  0.01618815 -0.13473429 -0.09311566]\n",
      " [ 0.01885519  0.71838026 -0.55429378 -0.02025366  0.15656255 -0.28616189]\n",
      " [-0.04362731 -0.01629305 -0.05457412 -0.03142589  0.02088826  0.8671174 ]\n",
      " [ 0.44629259 -0.06676526 -0.07518563 -0.04041668  0.10129401 -0.04429337]\n",
      " [-0.09663211 -0.01075077  0.07211832  0.67824993 -0.02200013 -0.28561333]\n",
      " [ 0.02871967 -0.19390468 -1.05063588  0.09139899  1.13998156  0.27373151]]\n"
     ]
    }
   ],
   "source": [
    "# TODO: Fit an ICA model to the data\n",
    "# Note: Adjust the data to have center at the origin first!\n",
    "from sklearn.decomposition import FastICA\n",
    "from sklearn.preprocessing import MinMaxScaler\n",
    "scaler = MinMaxScaler()\n",
    "\n",
    "centeredData = scaler.fit_transform(data)\n",
    "\n",
    "ica = FastICA()\n",
    "ica.fit_transform(centeredData)\n",
    "\n",
    "# Print the independent components\n",
    "print ica.components_"
   ]
  },
  {
   "cell_type": "code",
   "execution_count": 4,
   "metadata": {
    "collapsed": false
   },
   "outputs": [
    {
     "data": {
      "text/html": [
       "<div>\n",
       "<table border=\"1\" class=\"dataframe\">\n",
       "  <thead>\n",
       "    <tr style=\"text-align: right;\">\n",
       "      <th></th>\n",
       "      <th>Fresh</th>\n",
       "      <th>Milk</th>\n",
       "      <th>Grocery</th>\n",
       "      <th>Frozen</th>\n",
       "      <th>Detergents_Paper</th>\n",
       "      <th>Delicatessen</th>\n",
       "    </tr>\n",
       "  </thead>\n",
       "  <tbody>\n",
       "    <tr>\n",
       "      <th>IC 1</th>\n",
       "      <td>44.629259</td>\n",
       "      <td>-6.676526</td>\n",
       "      <td>-7.518563</td>\n",
       "      <td>-4.041668</td>\n",
       "      <td>10.129401</td>\n",
       "      <td>-4.429337</td>\n",
       "    </tr>\n",
       "    <tr>\n",
       "      <th>IC 2</th>\n",
       "      <td>9.663211</td>\n",
       "      <td>1.075077</td>\n",
       "      <td>-7.211832</td>\n",
       "      <td>-67.824993</td>\n",
       "      <td>2.200013</td>\n",
       "      <td>28.561333</td>\n",
       "    </tr>\n",
       "    <tr>\n",
       "      <th>IC 3</th>\n",
       "      <td>4.362731</td>\n",
       "      <td>1.629305</td>\n",
       "      <td>5.457412</td>\n",
       "      <td>3.142589</td>\n",
       "      <td>-2.088826</td>\n",
       "      <td>-86.711740</td>\n",
       "    </tr>\n",
       "    <tr>\n",
       "      <th>IC 4</th>\n",
       "      <td>2.871967</td>\n",
       "      <td>-19.390468</td>\n",
       "      <td>-105.063588</td>\n",
       "      <td>9.139899</td>\n",
       "      <td>113.998156</td>\n",
       "      <td>27.373151</td>\n",
       "    </tr>\n",
       "    <tr>\n",
       "      <th>IC 5</th>\n",
       "      <td>2.231307</td>\n",
       "      <td>-12.870728</td>\n",
       "      <td>69.608367</td>\n",
       "      <td>1.618815</td>\n",
       "      <td>-13.473429</td>\n",
       "      <td>-9.311566</td>\n",
       "    </tr>\n",
       "    <tr>\n",
       "      <th>IC 6</th>\n",
       "      <td>1.885519</td>\n",
       "      <td>71.838026</td>\n",
       "      <td>-55.429378</td>\n",
       "      <td>-2.025366</td>\n",
       "      <td>15.656255</td>\n",
       "      <td>-28.616189</td>\n",
       "    </tr>\n",
       "  </tbody>\n",
       "</table>\n",
       "</div>"
      ],
      "text/plain": [
       "          Fresh       Milk     Grocery     Frozen  Detergents_Paper  \\\n",
       "IC 1  44.629259  -6.676526   -7.518563  -4.041668         10.129401   \n",
       "IC 2   9.663211   1.075077   -7.211832 -67.824993          2.200013   \n",
       "IC 3   4.362731   1.629305    5.457412   3.142589         -2.088826   \n",
       "IC 4   2.871967 -19.390468 -105.063588   9.139899        113.998156   \n",
       "IC 5   2.231307 -12.870728   69.608367   1.618815        -13.473429   \n",
       "IC 6   1.885519  71.838026  -55.429378  -2.025366         15.656255   \n",
       "\n",
       "      Delicatessen  \n",
       "IC 1     -4.429337  \n",
       "IC 2     28.561333  \n",
       "IC 3    -86.711740  \n",
       "IC 4     27.373151  \n",
       "IC 5     -9.311566  \n",
       "IC 6    -28.616189  "
      ]
     },
     "execution_count": 4,
     "metadata": {},
     "output_type": "execute_result"
    }
   ],
   "source": [
    "# sort ICA components by the Fresh feature (changing the vector sign if Fresh coefficient is negative)\n",
    "# sorting will help seeing if ICA is consistent among different runs\n",
    "icaComponents = pd.DataFrame(ica.components_)\n",
    "icaComponents.columns = data.columns.values\n",
    "negativeFresh = icaComponents[\"Fresh\"] < 0\n",
    "icaComponents[negativeFresh] *= -1.0\n",
    "icaComponents.sort_values(by=['Fresh'], ascending = [0], inplace=True)\n",
    "icaComponentNames = [\"IC 1\", \"IC 2\", \"IC 3\", \"IC 4\", \"IC 5\", \"IC 6\"]\n",
    "icaComponents.index = icaComponentNames\n",
    "\n",
    "#print ica coefficients as % of the scaled features\n",
    "icaComponents *= 100.\n",
    "icaComponents"
   ]
  },
  {
   "cell_type": "markdown",
   "metadata": {},
   "source": [
    "**4)** For each vector in the ICA decomposition, write a sentence or two explaining what sort of object or property it corresponds to. What could these components be used for?"
   ]
  },
  {
   "cell_type": "markdown",
   "metadata": {
    "collapsed": true
   },
   "source": [
    "Answer: \n",
    "\n",
    "Since the ICA algorithm seems to be pretty consistent among different runs, we can argue that there is some kind of customer behaviour pattern.\n",
    "\n",
    "- IC 1: tells us that there is an independent component driven by the _Fresh_ products. A customer on this _line_ will have average spending on all the products except _Fresh_\n",
    "- IC 2: is an independent component driven prevalently by _Frozen_ products with a negative correlation to _Delicatessen_. This _independent_ customer could by significantly more Frozen and 1/3 less Delicatessen with respect to the mean.\n",
    "- IC 3: is an independent customer characterized by a strong difference in _Delicatessen_ spending.\n",
    "- IC 4: tells us that there is an independent component of customers with a strong negative correlation between _Grocery_ and _Detergents Paper_. A customer on this line could buy way more Grocery and way less Detergents, or vice versa.\n",
    "- IC 5: characterizes a customer driven by _Grocery_ spending, sligtly negatively correlated with _Milk_\n",
    "- IC 6: characterizes a customer driven by _Milk_ spending negatively correlated by _Grocery_ and slightly negatively correlated with _Delicatessen_\n",
    "\n",
    "The most interesting independent component is IC 4 since it clearly identify a _buying pattern_ with two products strongly correlated.\n"
   ]
  },
  {
   "cell_type": "markdown",
   "metadata": {},
   "source": [
    "##Clustering\n",
    "\n",
    "In this section you will choose either K Means clustering or Gaussian Mixed Models clustering, which implements expectation-maximization. Then you will sample elements from the clusters to understand their significance."
   ]
  },
  {
   "cell_type": "markdown",
   "metadata": {},
   "source": [
    "###Choose a Cluster Type\n",
    "\n",
    "**5)** What are the advantages of using K Means clustering or Gaussian Mixture Models?"
   ]
  },
  {
   "cell_type": "markdown",
   "metadata": {},
   "source": [
    "Answer: \n",
    "\n",
    "####K-Means\n",
    "K-Means will linearly separate the clusters, in the sense that the boundaries between clusters are lines.\n",
    "These are lines passing in the middle between every two centroids and orthogonal to the vector defined by centroids pair. Thus this algorithm always gives _sharp_ decision boundaries.\n",
    "Clusters are formed with a strict topological criterion, since only the distance between sample and centroid is taken into account.\n",
    "This algorithm is particularly good if, from our domain knowledge, we can say that _topological distance_ between samples is a significant clustering criterion.\n",
    "\n",
    "Typically this algorithm will not always converge to the same final clusters. The final clusters will depend on the starting centroids. This algorithm is generally run more times in order to find what could be the best clusterization.\n",
    "\n",
    "####Gaussian Mixture (Expectation Maximization)\n",
    "This algorithm use a probabilistic approach. The centroids will be the centers of gaussian distributions. Every sample will be labeled with the centroid's distribution which most likely generated it.\n",
    "This algorithm gives _soft_ boundaries. Boundaries defines how likely is that a sample is from a particular centroid.\n",
    "Practically this algorithm always converge to the same clusterization.\n",
    "\n",
    "####Model selection\n",
    "Given that human behaviours always have some kind of random component, the Gaussian Mixture approach could be reasonable. Anyway it could bring to clusters with _overlapping_ areas, both having significant probabilistic likeleihood (more on this at the end of this document).\n",
    "I will choose the K-Means approach in order to obtain _sharp_ cluster boundaries. In case this approach gives good results, it would be easier to comunicate and implement customers classification to the marketing area.\n",
    "\n"
   ]
  },
  {
   "cell_type": "markdown",
   "metadata": {},
   "source": [
    "**6)** Below is some starter code to help you visualize some cluster data. The visualization is based on [this demo](http://scikit-learn.org/stable/auto_examples/cluster/plot_kmeans_digits.html) from the sklearn documentation."
   ]
  },
  {
   "cell_type": "code",
   "execution_count": 5,
   "metadata": {
    "collapsed": true
   },
   "outputs": [],
   "source": [
    "# Import clustering modules\n",
    "from sklearn.cluster import KMeans\n",
    "from sklearn.mixture import GMM"
   ]
  },
  {
   "cell_type": "code",
   "execution_count": 6,
   "metadata": {
    "collapsed": false
   },
   "outputs": [
    {
     "name": "stdout",
     "output_type": "stream",
     "text": [
      "[[  -650.02212207   1585.51909007]\n",
      " [  4426.80497937   4042.45150884]\n",
      " [  4841.9987068    2578.762176  ]\n",
      " [  -990.34643689  -6279.80599663]\n",
      " [-10657.99873116  -2159.72581518]\n",
      " [  2765.96159271   -959.87072713]\n",
      " [   715.55089221  -2013.00226567]\n",
      " [  4474.58366697   1429.49697204]\n",
      " [  6712.09539718  -2205.90915598]\n",
      " [  4823.63435407  13480.55920489]]\n"
     ]
    }
   ],
   "source": [
    "# TODO: First we reduce the data to two dimensions using PCA to capture variation\n",
    "reduced_data = PCA(n_components = 2).fit_transform(data)\n",
    "print reduced_data[:10]  # print upto 10 elements"
   ]
  },
  {
   "cell_type": "code",
   "execution_count": 7,
   "metadata": {
    "collapsed": false
   },
   "outputs": [
    {
     "name": "stdout",
     "output_type": "stream",
     "text": [
      "KMeans(copy_x=True, init='k-means++', max_iter=300, n_clusters=5, n_init=10,\n",
      "    n_jobs=1, precompute_distances='auto', random_state=None, tol=0.0001,\n",
      "    verbose=0)\n"
     ]
    }
   ],
   "source": [
    "# TODO: Implement your clustering algorithm here, and fit it to the reduced data for visualization\n",
    "# The visualizer below assumes your clustering object is named 'clusters'\n",
    "\n",
    "clusters = KMeans(n_clusters = 5)\n",
    "clusters.fit(reduced_data)\n",
    "print clusters"
   ]
  },
  {
   "cell_type": "code",
   "execution_count": 8,
   "metadata": {
    "collapsed": false
   },
   "outputs": [],
   "source": [
    "# Plot the decision boundary by building a mesh grid to populate a graph.\n",
    "x_min, x_max = reduced_data[:, 0].min() - 1, reduced_data[:, 0].max() + 1\n",
    "y_min, y_max = reduced_data[:, 1].min() - 1, reduced_data[:, 1].max() + 1\n",
    "hx = (x_max-x_min)/1000.\n",
    "hy = (y_max-y_min)/1000.\n",
    "xx, yy = np.meshgrid(np.arange(x_min, x_max, hx), np.arange(y_min, y_max, hy))\n",
    "\n",
    "# Obtain labels for each point in mesh. Use last trained model.\n",
    "Z = clusters.predict(np.c_[xx.ravel(), yy.ravel()])"
   ]
  },
  {
   "cell_type": "code",
   "execution_count": 9,
   "metadata": {
    "collapsed": false
   },
   "outputs": [
    {
     "name": "stdout",
     "output_type": "stream",
     "text": [
      "[[ -9052.39957144  -4808.55909102]\n",
      " [  5607.91709853  14199.18040025]\n",
      " [-14537.71774395  61715.67085248]\n",
      " [  6399.7117556   -4169.29690862]\n",
      " [-37704.64157991  -5488.35405895]]\n"
     ]
    }
   ],
   "source": [
    "# TODO: Find the centroids for KMeans or the cluster means for GMM \n",
    "\n",
    "centroids = clusters.cluster_centers_\n",
    "print centroids"
   ]
  },
  {
   "cell_type": "code",
   "execution_count": 10,
   "metadata": {
    "collapsed": false
   },
   "outputs": [
    {
     "name": "stderr",
     "output_type": "stream",
     "text": [
      "/Users/matteo/.graphlab/anaconda/lib/python2.7/site-packages/matplotlib/collections.py:590: FutureWarning: elementwise comparison failed; returning scalar instead, but in the future will perform elementwise comparison\n",
      "  if self._edgecolors == str('face'):\n"
     ]
    },
    {
     "data": {
      "image/png": "[encoded data removed]",
      "text/plain": [
       "<matplotlib.figure.Figure at 0x107fd81d0>"
      ]
     },
     "metadata": {},
     "output_type": "display_data"
    }
   ],
   "source": [
    "# Put the result into a color plot\n",
    "Z = Z.reshape(xx.shape)\n",
    "plt.figure(1)\n",
    "plt.clf()\n",
    "plt.imshow(Z, interpolation='nearest',\n",
    "           extent=(xx.min(), xx.max(), yy.min(), yy.max()),\n",
    "           cmap=plt.cm.Paired,\n",
    "           aspect='auto', origin='lower')\n",
    "\n",
    "plt.plot(reduced_data[:, 0], reduced_data[:, 1], 'k.', markersize=2)\n",
    "plt.scatter(centroids[:, 0], centroids[:, 1],\n",
    "            marker='x', s=169, linewidths=3,\n",
    "            color='w', zorder=10)\n",
    "plt.title('Clustering on the wholesale grocery dataset (PCA-reduced data)\\n'\n",
    "          'Centroids are marked with white cross')\n",
    "plt.xlim(x_min, x_max)\n",
    "plt.ylim(y_min, y_max)\n",
    "plt.xticks(())\n",
    "plt.yticks(())\n",
    "plt.show()"
   ]
  },
  {
   "cell_type": "markdown",
   "metadata": {},
   "source": [
    "**A comparison with GMM and different number of clusters is described at the and of this document.**"
   ]
  },
  {
   "cell_type": "markdown",
   "metadata": {},
   "source": [
    "**7)** What are the central objects in each cluster? Describe them as customers."
   ]
  },
  {
   "cell_type": "markdown",
   "metadata": {
    "collapsed": true
   },
   "source": [
    "Answer: \n",
    "- **Low Spending**: Bottom Right Customers with low spending in both Fresh and Non-fresh products\n",
    "- **Mid Spending, mostly Fresh**: First centroid at the left of _Low Spending_. These customer have significant spending and are characterized by a prevalence of _Fresh_ products.\n",
    "- **Mid Spending, mostly Non-Fresh**: First centroid above _Low Spending_. These customers have significant spending and are characterized by a prevalence of _Non-Fresh_ products.\n",
    "- **High Spending, mostly Fresh**: Centroid at the left of _Mid Spending, mostly Fresh_. These could be considered as important (loyal) customers interested in Fresh products.\n",
    "- **High Spending, mostly Non-Fresh**: Above _Mid Spending, mostly Non-Fresh_. These could be considered as important (loyal) customers interested in Non-Fresh products."
   ]
  },
  {
   "cell_type": "code",
   "execution_count": 11,
   "metadata": {
    "collapsed": false
   },
   "outputs": [
    {
     "data": {
      "text/plain": [
       "3    227\n",
       "0    103\n",
       "1     80\n",
       "4     23\n",
       "2      7\n",
       "dtype: int64"
      ]
     },
     "execution_count": 11,
     "metadata": {},
     "output_type": "execute_result"
    }
   ],
   "source": [
    "# This will help evaluating the importance of each cluster based on its _population_\n",
    "labeled = pd.DataFrame(clusters.predict(reduced_data))\n",
    "labeled.stack().value_counts()"
   ]
  },
  {
   "cell_type": "markdown",
   "metadata": {},
   "source": [
    "_Low Spending_ customer cluster is the most populated one (200+). The second most populated cluster is _Mid Spending, mostly Fresh_ followed closely by _Mid Spending, mostly Non-Fresh_.\n",
    "These are the relevant clusters obtained with this method.\n",
    "\n",
    "The other two clusters are less meaningful and, in fact, overlaps. A high spending customer classified as _non-Fresh_ could have also the highest _Fresh_ spending. These two clusters could be collapsed in a single cluster labeled _High Spending_. Although _Fresh_ remains an important discriminant.\n",
    "As we will see later GMM does a better job in identifying the _high spending_ cluster, but is not as good at clustering the low spending customers (which is the most populated).\n",
    "\n",
    "This highlights the effect of K_Means as a _topological_ clusterization vs. GMM as a probabilistic soft clusterization. GMM results in possibly overlapping ellipsoids, while K_Means brings to sharp non-overlapping volumes. "
   ]
  },
  {
   "cell_type": "markdown",
   "metadata": {},
   "source": [
    "###Conclusions\n",
    "\n",
    "** 8)** Which of these techniques did you feel gave you the most insight into the data?"
   ]
  },
  {
   "cell_type": "markdown",
   "metadata": {
    "collapsed": true
   },
   "source": [
    "Answer: \n",
    "\n",
    "PCA helped a lot in identifying that _Fresh_ vs. _Non-Fresh_ could be a good simplification, reducing the amount of features.\n",
    "\n",
    "K-Means helped defining four meaningful categories: Low overall spending, mid spending with a prevalence in Fresh, mid spending with a prevalence of non Fresh and high spending.\n",
    "\n",
    "This algorithm starts with random centroids and iteratively:\n",
    "- assigns samples to the nearest centroid\n",
    "- move centroids to the _center of mass_ in the respective cluster\n",
    "- until centroids does not move anymore\n",
    "\n",
    "This topological clustering helped defining clusters as low and mid spending."
   ]
  },
  {
   "cell_type": "markdown",
   "metadata": {
    "collapsed": true
   },
   "source": [
    "**9)** How would you use that technique to help the company design new experiments?"
   ]
  },
  {
   "cell_type": "markdown",
   "metadata": {},
   "source": [
    "Answer: \n",
    "\n",
    "A/B testing could be better implemented comparing customers in the same cluster. This for experimentations involving _Low Spending_ or the two mid spending clusters.\n",
    "Given the relatively low population in the two high spending clusters, I would consider A/B testing the two classes separately or not depending on some other specific domain considerations."
   ]
  },
  {
   "cell_type": "markdown",
   "metadata": {},
   "source": [
    "**10)** How would you use that data to help you predict future customer needs?"
   ]
  },
  {
   "cell_type": "markdown",
   "metadata": {},
   "source": [
    "Answer: \n",
    "\n",
    "Given my little domain knowledge, a general idea could be that of using the _output_ of this clusterization as an input feature for other supervised models.\n",
    "\n",
    "- A decision tree (continuos) which try to predict when customers put their orders\n",
    "- A very simplified recommendation system which try to offer new products \n",
    "\n",
    "Probably the ICA components could be used in a regression model which trys to predict yearly spending as the number of customers increases.\n",
    "\n"
   ]
  },
  {
   "cell_type": "markdown",
   "metadata": {},
   "source": [
    "##More tests"
   ]
  },
  {
   "cell_type": "code",
   "execution_count": 23,
   "metadata": {
    "collapsed": false
   },
   "outputs": [],
   "source": [
    "# Halper clusters plotting function\n",
    "# Takes the model, its centroids and the desired plot title\n",
    "### It is based on previously computed grid which should be in scope! ###\n",
    "def plotModel(model, centroids, title):\n",
    "    Z = model.predict(np.c_[xx.ravel(), yy.ravel()])\n",
    "    Z = Z.reshape(xx.shape)\n",
    "    plt.figure()\n",
    "    plt.clf()\n",
    "    plt.imshow(Z, interpolation='nearest',\n",
    "               extent=(xx.min(), xx.max(), yy.min(), yy.max()),\n",
    "               cmap=plt.cm.Paired,\n",
    "               aspect='auto', origin='lower')\n",
    "\n",
    "    plt.plot(reduced_data[:, 0], reduced_data[:, 1], 'k.', markersize=2)\n",
    "    plt.scatter(centroids[:, 0], centroids[:, 1],\n",
    "                marker='x', s=169, linewidths=3,\n",
    "                color='w', zorder=10)\n",
    "    plt.title(title)\n",
    "    plt.xlim(x_min, x_max)\n",
    "    plt.ylim(y_min, y_max)\n",
    "    plt.xticks(())\n",
    "    plt.yticks(())\n",
    "    plt.show()"
   ]
  },
  {
   "cell_type": "markdown",
   "metadata": {},
   "source": [
    "##K-Means 3 Clusters"
   ]
  },
  {
   "cell_type": "code",
   "execution_count": 13,
   "metadata": {
    "collapsed": false
   },
   "outputs": [],
   "source": [
    "clustersKM_3 = KMeans(n_clusters = 3)"
   ]
  },
  {
   "cell_type": "code",
   "execution_count": 14,
   "metadata": {
    "collapsed": false
   },
   "outputs": [
    {
     "data": {
      "text/plain": [
       "KMeans(copy_x=True, init='k-means++', max_iter=300, n_clusters=3, n_init=10,\n",
       "    n_jobs=1, precompute_distances='auto', random_state=None, tol=0.0001,\n",
       "    verbose=0)"
      ]
     },
     "execution_count": 14,
     "metadata": {},
     "output_type": "execute_result"
    }
   ],
   "source": [
    "clustersKM_3.fit(reduced_data)"
   ]
  },
  {
   "cell_type": "code",
   "execution_count": 15,
   "metadata": {
    "collapsed": false
   },
   "outputs": [
    {
     "data": {
      "image/png": "[encoded data removed]",
      "text/plain": [
       "<matplotlib.figure.Figure at 0x10e78f2d0>"
      ]
     },
     "metadata": {},
     "output_type": "display_data"
    }
   ],
   "source": [
    "plotModel(clustersKM_3, clustersKM_3.cluster_centers_, 'K-Means 3 Clusters')"
   ]
  },
  {
   "cell_type": "markdown",
   "metadata": {},
   "source": [
    "As we can see, in this case K-Means _underfits_. The topological criterion brings to a clear definition of a _low spending_ cluster. Meanwhile, as overall spending grows, the separation between the other two clusters might be less useful."
   ]
  },
  {
   "cell_type": "markdown",
   "metadata": {},
   "source": [
    "##K-Means 7 Clusters"
   ]
  },
  {
   "cell_type": "code",
   "execution_count": 16,
   "metadata": {
    "collapsed": false
   },
   "outputs": [
    {
     "data": {
      "text/plain": [
       "KMeans(copy_x=True, init='k-means++', max_iter=300, n_clusters=7, n_init=10,\n",
       "    n_jobs=1, precompute_distances='auto', random_state=None, tol=0.0001,\n",
       "    verbose=0)"
      ]
     },
     "execution_count": 16,
     "metadata": {},
     "output_type": "execute_result"
    }
   ],
   "source": [
    "clustersKM_7 = KMeans(n_clusters = 7)\n",
    "clustersKM_7.fit(reduced_data)"
   ]
  },
  {
   "cell_type": "code",
   "execution_count": 17,
   "metadata": {
    "collapsed": false
   },
   "outputs": [
    {
     "data": {
      "image/png": "[encoded data removed]",
      "text/plain": [
       "<matplotlib.figure.Figure at 0x10e798210>"
      ]
     },
     "metadata": {},
     "output_type": "display_data"
    }
   ],
   "source": [
    "plotModel(clustersKM_7, clustersKM_7.cluster_centers_, 'K-Means 7 Clusters')"
   ]
  },
  {
   "cell_type": "markdown",
   "metadata": {},
   "source": [
    "In this case we might be _overfitting_. We have too many clusters. Their separation might not be so meaningful given the context."
   ]
  },
  {
   "cell_type": "markdown",
   "metadata": {},
   "source": [
    "##GMM 2 Clusters"
   ]
  },
  {
   "cell_type": "code",
   "execution_count": 18,
   "metadata": {
    "collapsed": false
   },
   "outputs": [
    {
     "data": {
      "text/plain": [
       "GMM(covariance_type='diag', init_params='wmc', min_covar=0.001,\n",
       "  n_components=2, n_init=1, n_iter=100, params='wmc', random_state=None,\n",
       "  thresh=None, tol=0.001, verbose=0)"
      ]
     },
     "execution_count": 18,
     "metadata": {},
     "output_type": "execute_result"
    }
   ],
   "source": [
    "clustersGMM_2 = GMM(n_components=2)\n",
    "clustersGMM_2.fit(reduced_data)"
   ]
  },
  {
   "cell_type": "code",
   "execution_count": 19,
   "metadata": {
    "collapsed": false
   },
   "outputs": [
    {
     "data": {
      "image/png": "[encoded data removed]",
      "text/plain": [
       "<matplotlib.figure.Figure at 0x104e2dbd0>"
      ]
     },
     "metadata": {},
     "output_type": "display_data"
    }
   ],
   "source": [
    "plotModel(clustersGMM_2, clustersGMM_2.means_, 'GMM 2 Clusters')"
   ]
  },
  {
   "cell_type": "markdown",
   "metadata": {},
   "source": [
    "Even though this model might underfit, it shows the probabilistic criterion of GMM. We may interpret these two clusters as:\n",
    "- customers who probably will spend as the mean or less\n",
    "- customers who probably will spend above the mean\n",
    "\n",
    "Anyway this simple model could be considered useful in case we just two classes. And will do better than K-Means."
   ]
  },
  {
   "cell_type": "markdown",
   "metadata": {},
   "source": [
    "##GMM 4 Clusters"
   ]
  },
  {
   "cell_type": "code",
   "execution_count": 20,
   "metadata": {
    "collapsed": false
   },
   "outputs": [
    {
     "data": {
      "text/plain": [
       "GMM(covariance_type='diag', init_params='wmc', min_covar=0.001,\n",
       "  n_components=3, n_init=1, n_iter=100, params='wmc', random_state=None,\n",
       "  thresh=None, tol=0.001, verbose=0)"
      ]
     },
     "execution_count": 20,
     "metadata": {},
     "output_type": "execute_result"
    }
   ],
   "source": [
    "clustersGMM_3 = GMM(n_components=3)\n",
    "clustersGMM_3.fit(reduced_data)"
   ]
  },
  {
   "cell_type": "code",
   "execution_count": 21,
   "metadata": {
    "collapsed": false
   },
   "outputs": [
    {
     "data": {
      "image/png": "[encoded data removed]",
      "text/plain": [
       "<matplotlib.figure.Figure at 0x117bc0050>"
      ]
     },
     "metadata": {},
     "output_type": "display_data"
    }
   ],
   "source": [
    "plotModel(clustersGMM_3, clustersGMM_3.means_, 'GMM 3 Clusters')"
   ]
  },
  {
   "cell_type": "markdown",
   "metadata": {
    "collapsed": true
   },
   "source": [
    "In this case we see two clusters significantly overlapping in the _low spending_ zone.\n",
    "Samples classified as _Mostly Fresh_ at the lower right, will also have a significant probability in the _mostly non-Fresh_. \n",
    "This shows how soft decision boundaries works for this algorithm.\n",
    "\n",
    "This model will not allow us to recognize an important cluster such as _low spending_."
   ]
  },
  {
   "cell_type": "code",
   "execution_count": null,
   "metadata": {
    "collapsed": true
   },
   "outputs": [],
   "source": []
  }
 ],
 "metadata": {
  "kernelspec": {
   "display_name": "Python 2",
   "language": "python",
   "name": "python2"
  },
  "language_info": {
   "codemirror_mode": {
    "name": "ipython",
    "version": 2
   },
   "file_extension": ".py",
   "mimetype": "text/x-python",
   "name": "python",
   "nbconvert_exporter": "python",
   "pygments_lexer": "ipython2",
   "version": "2.7.10"
  }
 },
 "nbformat": 4,
 "nbformat_minor": 0
}
